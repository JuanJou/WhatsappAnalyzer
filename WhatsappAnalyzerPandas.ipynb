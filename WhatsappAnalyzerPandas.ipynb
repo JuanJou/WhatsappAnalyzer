{
 "cells": [
  {
   "cell_type": "code",
   "execution_count": 7,
   "metadata": {
    "id": "yVs6bjpSo7Ni"
   },
   "outputs": [],
   "source": [
    "import re\n",
    "import numpy as np"
   ]
  },
  {
   "cell_type": "code",
   "execution_count": 8,
   "metadata": {},
   "outputs": [],
   "source": [
    "import nltk\n",
    "from nltk.corpus import stopwords"
   ]
  },
  {
   "cell_type": "markdown",
   "metadata": {},
   "source": [
    "## Load toxicity model"
   ]
  },
  {
   "cell_type": "code",
   "execution_count": 9,
   "metadata": {
    "colab": {
     "base_uri": "https://localhost:8080/"
    },
    "id": "cImSzFB4AEjb",
    "outputId": "959d0197-f49b-4c42-c4fc-a74c5fd4edda"
   },
   "outputs": [
    {
     "name": "stderr",
     "output_type": "stream",
     "text": [
      "/home/juan/projects/WhatsappAnalyzer/mundialdelectura/lib/python3.10/site-packages/huggingface_hub/file_download.py:1132: FutureWarning: `resume_download` is deprecated and will be removed in version 1.0.0. Downloads always resume when possible. If you want to force a new download, use `force_download=True`.\n",
      "  warnings.warn(\n"
     ]
    },
    {
     "data": {
      "text/plain": [
       "{'toxicity': [0.9959450364112854],\n",
       " 'severe_toxicity': [0.019979890435934067],\n",
       " 'obscene': [0.1270298957824707],\n",
       " 'identity_attack': [0.022107912227511406],\n",
       " 'insult': [0.10652612149715424],\n",
       " 'threat': [0.004996316507458687],\n",
       " 'sexual_explicit': [0.16550682485103607]}"
      ]
     },
     "execution_count": 9,
     "metadata": {},
     "output_type": "execute_result"
    }
   ],
   "source": [
    "from detoxify import Detoxify\n",
    "model = Detoxify('multilingual')\n",
    "results = model.predict(['jajajajajaja que hijo de puta'])\n",
    "results"
   ]
  },
  {
   "cell_type": "code",
   "execution_count": 10,
   "metadata": {},
   "outputs": [],
   "source": [
    "def get_toxicity(message):\n",
    "  return model.predict(message)[\"toxicity\"]"
   ]
  },
  {
   "cell_type": "markdown",
   "metadata": {
    "id": "RqYep2rJm3xU"
   },
   "source": [
    "## READ FROM TXT FILE"
   ]
  },
  {
   "cell_type": "code",
   "execution_count": 11,
   "metadata": {
    "id": "FzrtCefLla-j"
   },
   "outputs": [],
   "source": [
    "from datetime import datetime\n",
    "import matplotlib.pyplot as plt\n",
    "from collections import Counter\n",
    "import pandas as pd\n",
    "from pathlib import Path\n",
    "\n",
    "plt.rcParams[\"figure.figsize\"] = (20, 20)\n"
   ]
  },
  {
   "cell_type": "code",
   "execution_count": null,
   "metadata": {
    "id": "rsDpWfdMSmyo"
   },
   "outputs": [],
   "source": [
    "akas_for_each_person = {\n",
    "    \n",
    "}"
   ]
  },
  {
   "cell_type": "code",
   "execution_count": null,
   "metadata": {},
   "outputs": [],
   "source": [
    "path = Path(\"./Chat_as_DF.pkl\")\n",
    "if path.is_file():\n",
    "    after_process = pd.read_pickle(path)"
   ]
  },
  {
   "cell_type": "code",
   "execution_count": null,
   "metadata": {},
   "outputs": [],
   "source": [
    "keys = [\"Person1\",\n",
    "        \"Person2\",\n",
    "        \"Person3\",\n",
    "        \"Person4\",\n",
    "        \"Person5\",\n",
    "        \"Person6\",\n",
    "        \"Person7\",\n",
    "        \"Person8\",\n",
    "        \"Person9\",\n",
    "        \"Person10\",\n",
    "        \"Person11\",\n",
    "        \"Person12\",\n",
    "        \"Person13\",]#akas_for_each_person.keys()"
   ]
  },
  {
   "cell_type": "code",
   "execution_count": null,
   "metadata": {},
   "outputs": [],
   "source": [
    "after_process['User'] = 'Person' + pd.Series(pd.factorize(after_process['User'])[0] + 1).astype(str)"
   ]
  },
  {
   "cell_type": "code",
   "execution_count": null,
   "metadata": {},
   "outputs": [],
   "source": [
    "after_process = after_process[after_process[\"User\"].isin(keys)]\n",
    "total_messages = len(after_process)"
   ]
  },
  {
   "cell_type": "code",
   "execution_count": null,
   "metadata": {
    "colab": {
     "base_uri": "https://localhost:8080/"
    },
    "id": "roE0wSSQatLn",
    "outputId": "c7a87282-ac07-48d2-8220-ed6bebd7872f"
   },
   "outputs": [],
   "source": [
    "after_process[:10]"
   ]
  },
  {
   "cell_type": "code",
   "execution_count": null,
   "metadata": {},
   "outputs": [],
   "source": [
    "total_messages"
   ]
  },
  {
   "cell_type": "code",
   "execution_count": 12,
   "metadata": {},
   "outputs": [],
   "source": [
    "from tqdm.notebook import tqdm_notebook"
   ]
  },
  {
   "cell_type": "code",
   "execution_count": 13,
   "metadata": {},
   "outputs": [
    {
     "data": {
      "text/plain": [
       "'2.2.2'"
      ]
     },
     "execution_count": 13,
     "metadata": {},
     "output_type": "execute_result"
    }
   ],
   "source": [
    "pd.__version__"
   ]
  },
  {
   "cell_type": "code",
   "execution_count": 5,
   "metadata": {},
   "outputs": [],
   "source": [
    "import re\n",
    "splitted_chat = []\n",
    "with open(\"./Chat de WhatsApp con Mundial de Lectura/chats.tail.txt\", \"r\") as chat:\n",
    "    all_chat = chat.read().replace(\"\\n\", \" \")\n",
    "    splitted_chat = re.findall(\"\\d{1,2}\\/\\d{1,2}\\/\\d{4}, \\d{1,2}:\\d{2} - \\+[()\\d\\w\\s-]+: [\\s\\S]*?(?=\\d{1,2}\\/\\d{1,2}\\/\\d{4}, \\d{1,2}:\\d{2} - \\+|$)\", all_chat)"
   ]
  },
  {
   "cell_type": "code",
   "execution_count": 22,
   "metadata": {
    "id": "NC-0ybDdSJZ8"
   },
   "outputs": [],
   "source": [
    "def process_line(line):\n",
    "    #10/3/2024, 12:44 - +54 9 11 3763-1285: Muchas Gracias !!! Ya compre entradas.\n",
    "    regex_result = re.search(\"^(\\d{1,2}\\/\\d{1,2}\\/\\d{4}), (\\d\\d:\\d\\d) - \\+([()\\d\\w\\s-]*): ([\\s\\S]*)$\", line)\n",
    "    Message_Raw = line\n",
    "    date = regex_result.group(1)\n",
    "    time = regex_result.group(2)\n",
    "    name_in_line = regex_result.group(3)\n",
    "    message = regex_result.group(4)\n",
    "    toxicity = get_toxicity(message)\n",
    "    date = datetime.strptime(f\"{date} {time}\", \"%d/%m/%Y %H:%M\")\n",
    "    return pd.DataFrame([{\n",
    "            \"User\": name_in_line,\n",
    "            \"Message_Raw\": Message_Raw,\n",
    "            \"Message_Clean\": message,\n",
    "            \"Message_Only_Text\": message.lower() ,\n",
    "            \"Toxicity\": toxicity,\n",
    "            \"Date\": date,\n",
    "            \"Hour\": date.hour,\n",
    "            \"Day_of_Week\": date.weekday()\n",
    "           }])"
   ]
  },
  {
   "cell_type": "code",
   "execution_count": 23,
   "metadata": {
    "id": "PJkwgyTpQ7eT"
   },
   "outputs": [
    {
     "data": {
      "application/vnd.jupyter.widget-view+json": {
       "model_id": "7f66bef5d5dd48ddbf656f5caa3535ba",
       "version_major": 2,
       "version_minor": 0
      },
      "text/plain": [
       "  0%|          | 0/83 [00:00<?, ?it/s]"
      ]
     },
     "metadata": {},
     "output_type": "display_data"
    }
   ],
   "source": [
    "after_process = pd.DataFrame()\n",
    "with tqdm_notebook(total=len(splitted_chat)) as progress_bar:\n",
    "    for line in splitted_chat:\n",
    "        try:\n",
    "            processed_line = process_line(line)\n",
    "            after_process = pd.concat([after_process, processed_line])\n",
    "        except Exception as err:\n",
    "            print(f\"EXCEPTION {err} on line {line}\")\n",
    "            pass\n",
    "        finally:\n",
    "            progress_bar.update(1)\n",
    "            \n"
   ]
  },
  {
   "cell_type": "code",
   "execution_count": 24,
   "metadata": {},
   "outputs": [],
   "source": [
    "after_process.to_pickle(\"Chat_as_DF.pkl\")"
   ]
  },
  {
   "cell_type": "code",
   "execution_count": 25,
   "metadata": {},
   "outputs": [
    {
     "data": {
      "text/html": [
       "<div>\n",
       "<style scoped>\n",
       "    .dataframe tbody tr th:only-of-type {\n",
       "        vertical-align: middle;\n",
       "    }\n",
       "\n",
       "    .dataframe tbody tr th {\n",
       "        vertical-align: top;\n",
       "    }\n",
       "\n",
       "    .dataframe thead th {\n",
       "        text-align: right;\n",
       "    }\n",
       "</style>\n",
       "<table border=\"1\" class=\"dataframe\">\n",
       "  <thead>\n",
       "    <tr style=\"text-align: right;\">\n",
       "      <th></th>\n",
       "      <th>User</th>\n",
       "      <th>Message_Raw</th>\n",
       "      <th>Message_Clean</th>\n",
       "      <th>Message_Only_Text</th>\n",
       "      <th>Toxicity</th>\n",
       "      <th>Date</th>\n",
       "      <th>Hour</th>\n",
       "      <th>Day_of_Week</th>\n",
       "    </tr>\n",
       "  </thead>\n",
       "  <tbody>\n",
       "    <tr>\n",
       "      <th>0</th>\n",
       "      <td>54 9 291 432-4646</td>\n",
       "      <td>8/5/2024, 21:11 - +54 9 291 432-4646: Hasta dó...</td>\n",
       "      <td>Hasta dónde leemos para el viernes?</td>\n",
       "      <td>hasta dónde leemos para el viernes?</td>\n",
       "      <td>0.000402</td>\n",
       "      <td>2024-05-08 21:11:00</td>\n",
       "      <td>21</td>\n",
       "      <td>2</td>\n",
       "    </tr>\n",
       "    <tr>\n",
       "      <th>0</th>\n",
       "      <td>54 9 11 4916-4740</td>\n",
       "      <td>8/5/2024, 21:13 - +54 9 11 4916-4740: Acá el c...</td>\n",
       "      <td>Acá el cronograma de lectura</td>\n",
       "      <td>acá el cronograma de lectura</td>\n",
       "      <td>0.001018</td>\n",
       "      <td>2024-05-08 21:13:00</td>\n",
       "      <td>21</td>\n",
       "      <td>2</td>\n",
       "    </tr>\n",
       "    <tr>\n",
       "      <th>0</th>\n",
       "      <td>54 9 291 432-4646</td>\n",
       "      <td>8/5/2024, 21:20 - +54 9 291 432-4646: No puedo...</td>\n",
       "      <td>No puedo abrir el cronograma</td>\n",
       "      <td>no puedo abrir el cronograma</td>\n",
       "      <td>0.000642</td>\n",
       "      <td>2024-05-08 21:20:00</td>\n",
       "      <td>21</td>\n",
       "      <td>2</td>\n",
       "    </tr>\n",
       "    <tr>\n",
       "      <th>0</th>\n",
       "      <td>54 9 343 610-1042</td>\n",
       "      <td>8/5/2024, 21:21 - +54 9 343 610-1042: Por que ...</td>\n",
       "      <td>Por que no esta más fijado?</td>\n",
       "      <td>por que no esta más fijado?</td>\n",
       "      <td>0.005338</td>\n",
       "      <td>2024-05-08 21:21:00</td>\n",
       "      <td>21</td>\n",
       "      <td>2</td>\n",
       "    </tr>\n",
       "    <tr>\n",
       "      <th>0</th>\n",
       "      <td>54 9 291 432-4646</td>\n",
       "      <td>8/5/2024, 21:21 - +54 9 291 432-4646: Lo q pas...</td>\n",
       "      <td>Lo q pasa es q voy borrando mjes xq son ciento...</td>\n",
       "      <td>lo q pasa es q voy borrando mjes xq son ciento...</td>\n",
       "      <td>0.461167</td>\n",
       "      <td>2024-05-08 21:21:00</td>\n",
       "      <td>21</td>\n",
       "      <td>2</td>\n",
       "    </tr>\n",
       "    <tr>\n",
       "      <th>...</th>\n",
       "      <td>...</td>\n",
       "      <td>...</td>\n",
       "      <td>...</td>\n",
       "      <td>...</td>\n",
       "      <td>...</td>\n",
       "      <td>...</td>\n",
       "      <td>...</td>\n",
       "      <td>...</td>\n",
       "    </tr>\n",
       "    <tr>\n",
       "      <th>0</th>\n",
       "      <td>54 9 2314 41-1016</td>\n",
       "      <td>10/5/2024, 16:28 - +54 9 2314 41-1016: Me enca...</td>\n",
       "      <td>Me encantò!!! Gracias sss 💚</td>\n",
       "      <td>me encantò!!! gracias sss 💚</td>\n",
       "      <td>0.001636</td>\n",
       "      <td>2024-05-10 16:28:00</td>\n",
       "      <td>16</td>\n",
       "      <td>4</td>\n",
       "    </tr>\n",
       "    <tr>\n",
       "      <th>0</th>\n",
       "      <td>54 9 2314 41-1016</td>\n",
       "      <td>10/5/2024, 16:30 - +54 9 2314 41-1016: Es mara...</td>\n",
       "      <td>Es maravilloso este grupo! Y qué placer la lec...</td>\n",
       "      <td>es maravilloso este grupo! y qué placer la lec...</td>\n",
       "      <td>0.000527</td>\n",
       "      <td>2024-05-10 16:30:00</td>\n",
       "      <td>16</td>\n",
       "      <td>4</td>\n",
       "    </tr>\n",
       "    <tr>\n",
       "      <th>0</th>\n",
       "      <td>54 9 11 4084-4598</td>\n",
       "      <td>10/5/2024, 16:57 - +54 9 11 4084-4598: https:/...</td>\n",
       "      <td>https://youtu.be/DbXLrkMFm8Q?si=HvWiLFqKP8fb_4Yx</td>\n",
       "      <td>https://youtu.be/dbxlrkmfm8q?si=hvwilfqkp8fb_4yx</td>\n",
       "      <td>0.000500</td>\n",
       "      <td>2024-05-10 16:57:00</td>\n",
       "      <td>16</td>\n",
       "      <td>4</td>\n",
       "    </tr>\n",
       "    <tr>\n",
       "      <th>0</th>\n",
       "      <td>54 9 11 4084-4598</td>\n",
       "      <td>10/5/2024, 16:58 - +54 9 11 4084-4598: No sé s...</td>\n",
       "      <td>No sé si alguien lo compartió ya, pero es un v...</td>\n",
       "      <td>no sé si alguien lo compartió ya, pero es un v...</td>\n",
       "      <td>0.000463</td>\n",
       "      <td>2024-05-10 16:58:00</td>\n",
       "      <td>16</td>\n",
       "      <td>4</td>\n",
       "    </tr>\n",
       "    <tr>\n",
       "      <th>0</th>\n",
       "      <td>54 9 223 532-7051</td>\n",
       "      <td>10/5/2024, 17:18 - +54 9 223 532-7051: Gracias...</td>\n",
       "      <td>Gracias! Los cuentos son tremendos 🫶</td>\n",
       "      <td>gracias! los cuentos son tremendos 🫶</td>\n",
       "      <td>0.005705</td>\n",
       "      <td>2024-05-10 17:18:00</td>\n",
       "      <td>17</td>\n",
       "      <td>4</td>\n",
       "    </tr>\n",
       "  </tbody>\n",
       "</table>\n",
       "<p>83 rows × 8 columns</p>\n",
       "</div>"
      ],
      "text/plain": [
       "                 User                                        Message_Raw  \\\n",
       "0   54 9 291 432-4646  8/5/2024, 21:11 - +54 9 291 432-4646: Hasta dó...   \n",
       "0   54 9 11 4916-4740  8/5/2024, 21:13 - +54 9 11 4916-4740: Acá el c...   \n",
       "0   54 9 291 432-4646  8/5/2024, 21:20 - +54 9 291 432-4646: No puedo...   \n",
       "0   54 9 343 610-1042  8/5/2024, 21:21 - +54 9 343 610-1042: Por que ...   \n",
       "0   54 9 291 432-4646  8/5/2024, 21:21 - +54 9 291 432-4646: Lo q pas...   \n",
       "..                ...                                                ...   \n",
       "0   54 9 2314 41-1016  10/5/2024, 16:28 - +54 9 2314 41-1016: Me enca...   \n",
       "0   54 9 2314 41-1016  10/5/2024, 16:30 - +54 9 2314 41-1016: Es mara...   \n",
       "0   54 9 11 4084-4598  10/5/2024, 16:57 - +54 9 11 4084-4598: https:/...   \n",
       "0   54 9 11 4084-4598  10/5/2024, 16:58 - +54 9 11 4084-4598: No sé s...   \n",
       "0   54 9 223 532-7051  10/5/2024, 17:18 - +54 9 223 532-7051: Gracias...   \n",
       "\n",
       "                                        Message_Clean  \\\n",
       "0                Hasta dónde leemos para el viernes?    \n",
       "0                       Acá el cronograma de lectura    \n",
       "0                       No puedo abrir el cronograma    \n",
       "0                        Por que no esta más fijado?    \n",
       "0   Lo q pasa es q voy borrando mjes xq son ciento...   \n",
       "..                                                ...   \n",
       "0                        Me encantò!!! Gracias sss 💚    \n",
       "0   Es maravilloso este grupo! Y qué placer la lec...   \n",
       "0   https://youtu.be/DbXLrkMFm8Q?si=HvWiLFqKP8fb_4Yx    \n",
       "0   No sé si alguien lo compartió ya, pero es un v...   \n",
       "0               Gracias! Los cuentos son tremendos 🫶    \n",
       "\n",
       "                                    Message_Only_Text  Toxicity  \\\n",
       "0                hasta dónde leemos para el viernes?   0.000402   \n",
       "0                       acá el cronograma de lectura   0.001018   \n",
       "0                       no puedo abrir el cronograma   0.000642   \n",
       "0                        por que no esta más fijado?   0.005338   \n",
       "0   lo q pasa es q voy borrando mjes xq son ciento...  0.461167   \n",
       "..                                                ...       ...   \n",
       "0                        me encantò!!! gracias sss 💚   0.001636   \n",
       "0   es maravilloso este grupo! y qué placer la lec...  0.000527   \n",
       "0   https://youtu.be/dbxlrkmfm8q?si=hvwilfqkp8fb_4yx   0.000500   \n",
       "0   no sé si alguien lo compartió ya, pero es un v...  0.000463   \n",
       "0               gracias! los cuentos son tremendos 🫶   0.005705   \n",
       "\n",
       "                  Date  Hour  Day_of_Week  \n",
       "0  2024-05-08 21:11:00    21            2  \n",
       "0  2024-05-08 21:13:00    21            2  \n",
       "0  2024-05-08 21:20:00    21            2  \n",
       "0  2024-05-08 21:21:00    21            2  \n",
       "0  2024-05-08 21:21:00    21            2  \n",
       "..                 ...   ...          ...  \n",
       "0  2024-05-10 16:28:00    16            4  \n",
       "0  2024-05-10 16:30:00    16            4  \n",
       "0  2024-05-10 16:57:00    16            4  \n",
       "0  2024-05-10 16:58:00    16            4  \n",
       "0  2024-05-10 17:18:00    17            4  \n",
       "\n",
       "[83 rows x 8 columns]"
      ]
     },
     "execution_count": 25,
     "metadata": {},
     "output_type": "execute_result"
    }
   ],
   "source": [
    "after_process"
   ]
  },
  {
   "cell_type": "code",
   "execution_count": null,
   "metadata": {},
   "outputs": [],
   "source": [
    "after_process = pd.DataFrame()\n",
    "with open(\"./Alloy_Del_Negro-Clean.txt\", \"r\") as chat:\n",
    "    s = chat.read(1024)\n",
    "\n",
    "print(s)\n",
    "a = re.split(r'(\\[\\d{1,2}\\/\\d{1,2}\\/\\d{2} \\d\\d:\\d\\d:\\d\\d\\]) ', s)[1:]\n",
    "pair = zip(a[0::2],a[1::2])\n",
    "print(list(pair))\n"
   ]
  },
  {
   "cell_type": "code",
   "execution_count": null,
   "metadata": {},
   "outputs": [],
   "source": [
    "from sklearn.model_selection import train_test_split"
   ]
  },
  {
   "cell_type": "code",
   "execution_count": null,
   "metadata": {},
   "outputs": [],
   "source": [
    "X_train, X_test, Y_train, Y_test = train_test_split(after_process[\"Message_Only_Text\"], after_process[\"User\"], test_size=0.2, random_state=42)"
   ]
  },
  {
   "cell_type": "markdown",
   "metadata": {},
   "source": [
    "## Messages sent by person"
   ]
  },
  {
   "cell_type": "code",
   "execution_count": 26,
   "metadata": {},
   "outputs": [
    {
     "data": {
      "text/plain": [
       "<Axes: xlabel='User'>"
      ]
     },
     "execution_count": 26,
     "metadata": {},
     "output_type": "execute_result"
    },
    {
     "data": {
      "image/png": "[encoded data removed]",
      "text/plain": [
       "<Figure size 2000x2000 with 1 Axes>"
      ]
     },
     "metadata": {},
     "output_type": "display_data"
    }
   ],
   "source": [
    "messages_by_person = after_process.groupby(\"User\")\n",
    "messages_by_person[\"User\"].count().sort_values(ascending=False).plot(kind=\"bar\")"
   ]
  },
  {
   "cell_type": "markdown",
   "metadata": {},
   "source": [
    "## Messages per week"
   ]
  },
  {
   "cell_type": "code",
   "execution_count": 28,
   "metadata": {},
   "outputs": [
    {
     "data": {
      "image/png": "[encoded data removed]",
      "text/plain": [
       "<Figure size 4000x1000 with 1 Axes>"
      ]
     },
     "metadata": {},
     "output_type": "display_data"
    }
   ],
   "source": [
    "by_date_by_person = after_process.groupby([after_process[\"Date\"].dt.isocalendar().week, after_process[\"Date\"].dt.month, after_process[\"Date\"].dt.year]).count().plot(kind=\"line\", figsize=(40,10))\n"
   ]
  },
  {
   "cell_type": "markdown",
   "metadata": {},
   "source": [
    "## Day with max number of messages for each person"
   ]
  },
  {
   "cell_type": "code",
   "execution_count": null,
   "metadata": {},
   "outputs": [],
   "source": [
    "max_messages_on_a_day_per_person = after_process.groupby([\"User\", after_process[\"Date\"].dt.date]).count().sort_values(by=\"Hour\").groupby(level=0).tail(1).sort_values(ascending=False, by=\"Hour\")\n",
    "\n",
    "max_messages_on_a_day_per_person[\"Date\"].reset_index(name=\"Total messages\")"
   ]
  },
  {
   "cell_type": "markdown",
   "metadata": {},
   "source": [
    "## Day of the week with most messages for each person"
   ]
  },
  {
   "cell_type": "code",
   "execution_count": null,
   "metadata": {},
   "outputs": [],
   "source": [
    "import calendar\n",
    "\n",
    "messages_by_day_of_week = after_process.groupby([\"User\", after_process[\"Date\"].dt.weekday]).count().sort_values(by=\"Hour\")[\"Date\"]\n",
    "\n",
    "matrix_of_messages = messages_by_day_of_week.unstack()\n",
    "matrix_of_messages.columns = map(lambda x: calendar.day_name[x],matrix_of_messages.columns)\n",
    "matrix_of_messages.style.background_gradient(cmap=\"RdYlGn\")"
   ]
  },
  {
   "cell_type": "markdown",
   "metadata": {},
   "source": [
    "## Top 10 days with higher number of messages"
   ]
  },
  {
   "cell_type": "code",
   "execution_count": 29,
   "metadata": {},
   "outputs": [
    {
     "name": "stdout",
     "output_type": "stream",
     "text": [
      "Day (YYYY-MM-dd): 2024-05-10 - Number of messages: 62\n",
      "Day (YYYY-MM-dd): 2024-05-08 - Number of messages: 14\n",
      "Day (YYYY-MM-dd): 2024-05-09 - Number of messages: 7\n"
     ]
    }
   ],
   "source": [
    "higher_number_of_messages = after_process.groupby(after_process[\"Date\"].dt.date).count()\n",
    "\n",
    "for day in higher_number_of_messages.nlargest(columns=\"Hour\", n=10).iterrows():\n",
    "    print(f'Day (YYYY-MM-dd): {day[0]} - Number of messages: {day[1][\"Hour\"]}')"
   ]
  },
  {
   "cell_type": "markdown",
   "metadata": {},
   "source": [
    "## Hour with the higher number of messages overall"
   ]
  },
  {
   "cell_type": "code",
   "execution_count": 30,
   "metadata": {},
   "outputs": [
    {
     "name": "stdout",
     "output_type": "stream",
     "text": [
      "Hour: 11 - Number of messages: 62\n"
     ]
    }
   ],
   "source": [
    "higher_number_of_messages_of_hour = after_process.groupby(after_process[\"Date\"].dt.hour).count()\n",
    "\n",
    "\n",
    "print(f'Hour: {higher_number_of_messages_of_hour.idxmax()[\"Date\"]} - Number of messages: {higher_number_of_messages.max()[\"Date\"]}')"
   ]
  },
  {
   "cell_type": "markdown",
   "metadata": {},
   "source": [
    "## Most messages in an hour"
   ]
  },
  {
   "cell_type": "code",
   "execution_count": 31,
   "metadata": {},
   "outputs": [
    {
     "name": "stdout",
     "output_type": "stream",
     "text": [
      "Day (YYYY-MM-dd): 2024-05-10 - Hour: 11 - Number of messages: 12\n"
     ]
    }
   ],
   "source": [
    "higher_number_of_messages = after_process.groupby([after_process[\"Date\"].dt.date, after_process[\"Date\"].dt.hour]).count()\n",
    "\n",
    "print(f'Day (YYYY-MM-dd): {higher_number_of_messages.idxmax()[\"Date\"][0]} - Hour: {higher_number_of_messages.idxmax()[\"Date\"][1]} - Number of messages: {higher_number_of_messages.max()[\"Date\"]}')"
   ]
  },
  {
   "cell_type": "markdown",
   "metadata": {},
   "source": [
    "## Messages per hour"
   ]
  },
  {
   "cell_type": "code",
   "execution_count": null,
   "metadata": {},
   "outputs": [],
   "source": [
    "messages_per_hour = after_process.groupby(\"Hour\")[\"Hour\"].count().plot(kind=\"bar\")"
   ]
  },
  {
   "cell_type": "markdown",
   "metadata": {},
   "source": [
    "## Messages per day of the week"
   ]
  },
  {
   "cell_type": "code",
   "execution_count": null,
   "metadata": {},
   "outputs": [],
   "source": [
    "messages_per_hour = after_process.groupby(after_process[\"Date\"].dt.isocalendar().day)[\"Hour\"].count().plot(kind=\"bar\", color=\"green\")"
   ]
  },
  {
   "cell_type": "markdown",
   "metadata": {},
   "source": [
    "## Messages per week of the each year"
   ]
  },
  {
   "cell_type": "code",
   "execution_count": null,
   "metadata": {},
   "outputs": [],
   "source": [
    "after_process.groupby([after_process[\"Date\"].dt.month, after_process[\"Date\"].dt.year])[\"Hour\"].count().unstack(level=1).plot(kind=\"bar\", color=\"dodgerblue\", subplots=True)"
   ]
  },
  {
   "cell_type": "markdown",
   "metadata": {},
   "source": [
    "## Total messages per year"
   ]
  },
  {
   "cell_type": "code",
   "execution_count": null,
   "metadata": {},
   "outputs": [],
   "source": [
    "messages_per_year = after_process.groupby(after_process[\"Date\"].dt.year).count()\n",
    "print(f'Total: {messages_per_year[\"Hour\"].to_string()} \\n---------\\nAverage: {(messages_per_year[\"Hour\"] / 365).to_string()}')"
   ]
  },
  {
   "cell_type": "markdown",
   "metadata": {},
   "source": [
    "## Average length per person"
   ]
  },
  {
   "cell_type": "code",
   "execution_count": null,
   "metadata": {},
   "outputs": [],
   "source": [
    "messages_by_person[\"Message_Clean\"].apply(lambda x: np.mean(x.str.len())).reset_index(name='Average length of message').style.background_gradient(cmap=\"RdYlGn\")"
   ]
  },
  {
   "cell_type": "markdown",
   "metadata": {},
   "source": [
    "## Amount of characters written by each person"
   ]
  },
  {
   "cell_type": "code",
   "execution_count": null,
   "metadata": {},
   "outputs": [],
   "source": [
    "messages_by_person[\"Message_Clean\"].apply(lambda x: np.sum(x.str.len())).reset_index(name='Number of total characters').style.background_gradient(cmap=\"RdYlGn\")"
   ]
  },
  {
   "cell_type": "code",
   "execution_count": null,
   "metadata": {
    "id": "SeLRzP3No3Dg"
   },
   "outputs": [],
   "source": [
    "message_counter =  Counter(after_process[\"User\"])"
   ]
  },
  {
   "cell_type": "code",
   "execution_count": null,
   "metadata": {
    "colab": {
     "base_uri": "https://localhost:8080/"
    },
    "id": "brFLhpswaey_",
    "outputId": "167841ac-0405-44f1-b3fa-f9d29a1ec037"
   },
   "outputs": [],
   "source": [
    "message_counter"
   ]
  },
  {
   "cell_type": "markdown",
   "metadata": {
    "id": "hH07jiMBIo1q"
   },
   "source": [
    "## Matrix of responses per pair of persons"
   ]
  },
  {
   "cell_type": "code",
   "execution_count": null,
   "metadata": {
    "colab": {
     "base_uri": "https://localhost:8080/"
    },
    "id": "YgC6vYwhKON_",
    "outputId": "bd2ccebb-85bf-4460-90bb-93d6fd373dfb"
   },
   "outputs": [],
   "source": [
    "tuples_of_lines = zip(after_process[2:].iterrows(), after_process[3:].iterrows())\n",
    "print(tuples_of_lines)\n",
    "initial_dict = dict.fromkeys(keys, 0)\n",
    "\n",
    "matrix_of_responses = {key: initial_dict.copy() for key in keys }\n",
    "\n",
    "for line in tuples_of_lines:\n",
    "  person_asking = line[0][1][\"User\"]\n",
    "  person_responding = line[1][1][\"User\"]\n",
    "  matrix_of_responses[person_asking][person_responding] += 1"
   ]
  },
  {
   "cell_type": "code",
   "execution_count": null,
   "metadata": {
    "id": "Gk1KSKSKZW3S"
   },
   "outputs": [],
   "source": [
    "#normalize count\n",
    "for key in matrix_of_responses:\n",
    "    for inner_key in matrix_of_responses[key]:\n",
    "      #matrix_of_responses[key][inner_key] *= (len(messages_by_person.get_group(key)) * len(messages_by_person.get_group(inner_key))) / (total_messages * total_messages)\n",
    "      pass\n"
   ]
  },
  {
   "cell_type": "code",
   "execution_count": null,
   "metadata": {},
   "outputs": [],
   "source": [
    "len(messages_by_person.get_group(\"Person1\"))"
   ]
  },
  {
   "cell_type": "code",
   "execution_count": null,
   "metadata": {
    "colab": {
     "base_uri": "https://localhost:8080/"
    },
    "id": "jYH-YsGaW8UL",
    "outputId": "cf006231-3196-48bc-ff89-d523c1135645"
   },
   "outputs": [],
   "source": [
    "matrix = []\n",
    "\n",
    "for value in matrix_of_responses.values():\n",
    "  matrix.append(list(value.values()))\n",
    "\n",
    "matrix = np.array(matrix)\n",
    "with_diagonal = np.fill_diagonal(matrix, 0)"
   ]
  },
  {
   "cell_type": "code",
   "execution_count": null,
   "metadata": {
    "colab": {
     "base_uri": "https://localhost:8080/",
     "height": 682
    },
    "id": "KelfBkgclXoG",
    "outputId": "429aa8f2-6fe3-40df-b4c0-75ae9950a496"
   },
   "outputs": [],
   "source": [
    "fig, ax = plt.subplots()\n",
    "\n",
    "def set_ticks(ax, labels, which):\n",
    "  if which == \"x\":\n",
    "    ax.set_xticklabels(labels)\n",
    "    ax.set_xticks(np.arange(len(labels)))\n",
    "  else:\n",
    "    ax.set_yticklabels(labels)\n",
    "    ax.set_yticks(np.arange(len(labels)))\n",
    "\n",
    "set_ticks(ax, list(matrix_of_responses.keys()), \"x\")\n",
    "set_ticks(ax, list(matrix_of_responses.keys()), \"y\")\n",
    "\n",
    "plt.xticks(rotation=45)\n",
    "\n",
    "for i in range(len(matrix)):\n",
    "    for j in range(len(matrix[i])):\n",
    "        text = ax.text(j, i, round(matrix[i, j], 2),\n",
    "                       ha=\"center\", va=\"center\", color=\"r\", fontweight=\"bold\")\n",
    "\n",
    "ax.imshow(matrix, cmap=\"BuGn\")\n",
    "plt.show()\n",
    "\n",
    "#show responses/total messages"
   ]
  },
  {
   "cell_type": "markdown",
   "metadata": {
    "id": "JctjV1h-0U5s"
   },
   "source": [
    "## Who laugh the most?"
   ]
  },
  {
   "cell_type": "code",
   "execution_count": null,
   "metadata": {
    "id": "VSbIF9NN0Hj-"
   },
   "outputs": [],
   "source": [
    "def is_laugh(message):\n",
    "  reg = re.compile(r\"^.*\\b[JjeEiIAakKSs]{3,}\\b.*$\")\n",
    "  is_jj = re.compile(r\"^.*\\b[jJ][jJ]\\b.*$\")\n",
    "  return bool(reg.match(message)) and bool(not is_jj.match(message))"
   ]
  },
  {
   "cell_type": "code",
   "execution_count": null,
   "metadata": {
    "colab": {
     "base_uri": "https://localhost:8080/",
     "height": 735
    },
    "id": "tsVq49rk6bIe",
    "outputId": "928d5704-6e5c-45ee-fed1-4e8e1e9c4f5b"
   },
   "outputs": [],
   "source": [
    "count_laughs = dict.fromkeys(keys, 0)\n",
    "\n",
    "for person, messages in messages_by_person:\n",
    "  print(person)\n",
    "  for message in messages.iterrows():\n",
    "    if is_laugh(message[1][\"Message_Clean\"]):\n",
    "      count_laughs[person] += 1\n",
    "\n",
    "plt.bar(list(keys), list(count_laughs.values()))\n",
    "plt.title(\"Who laugh the most overall?\")\n",
    "plt.xticks(rotation=90)\n",
    "plt.show()\n",
    "\n",
    "print(count_laughs)\n"
   ]
  },
  {
   "cell_type": "code",
   "execution_count": null,
   "metadata": {
    "colab": {
     "base_uri": "https://localhost:8080/",
     "height": 698
    },
    "id": "S-6t0Ug4-m2G",
    "outputId": "4d93b892-365f-4989-efe6-7210fafbd568"
   },
   "outputs": [],
   "source": [
    "average_laughs = dict.fromkeys(akas_for_each_person.keys(), 0)\n",
    "for person in count_laughs:\n",
    "  average_laughs[person] = count_laughs[person] / len(messages_by_person.get_group(person))\n",
    "\n",
    "plt.bar(list(keys), list(count_laughs.values()))\n",
    "plt.title(\"Who laugh the most (probability per message)?\")\n",
    "plt.xticks(rotation=90)\n",
    "plt.show()"
   ]
  },
  {
   "cell_type": "markdown",
   "metadata": {
    "id": "8iRAWE3ZMllP"
   },
   "source": [
    "## Mentions matrix"
   ]
  },
  {
   "cell_type": "code",
   "execution_count": null,
   "metadata": {
    "colab": {
     "base_uri": "https://localhost:8080/"
    },
    "id": "tcpwXHjlMrcq",
    "outputId": "7cbb2d74-8a8c-43e1-a614-df2a68df030b"
   },
   "outputs": [],
   "source": [
    "from itertools import chain\n",
    "count_of_mentions_per_person = empty_dict_of_names.copy()\n",
    "\n",
    "for person in messages_grouped_by_person:\n",
    "  individual_count = empty_dict_of_names.copy()\n",
    "  count_of_mentions_per_person[person] = dict(Counter(list(chain.from_iterable([list(message[\"Mentions\"]) for message in messages_grouped_by_person[person]]))))\n",
    "\n",
    "\n",
    "count_of_mentions_per_person"
   ]
  },
  {
   "cell_type": "code",
   "execution_count": null,
   "metadata": {
    "colab": {
     "base_uri": "https://localhost:8080/"
    },
    "id": "6hqnKNh9elT3",
    "outputId": "4375ef08-5b1e-4df0-ddf7-caa6cde3b0eb"
   },
   "outputs": [],
   "source": [
    "matrix_of_mentions = []\n",
    "\n",
    "for mentions in count_of_mentions_per_person.values():\n",
    "  matrix_of_mentions.append(list(np.array(list(mentions.values())).astype(float)))\n",
    "\n",
    "#matrix_of_mentions = np.array(matrix_of_mentions)\n",
    "#np.fill_diagonal(matrix_of_mentions, 0)\n",
    "\n",
    "matrix_of_mentions"
   ]
  },
  {
   "cell_type": "code",
   "execution_count": null,
   "metadata": {
    "colab": {
     "base_uri": "https://localhost:8080/",
     "height": 1000
    },
    "id": "PQThuPMuq3E9",
    "outputId": "9baae659-77a9-4480-8bcb-7ab5cd584f54"
   },
   "outputs": [],
   "source": [
    "figure, axis = plt.subplots()\n",
    "\n",
    "#set_ticks(axis, list(count_of_mentions_per_person.keys()), \"x\")\n",
    "#set_ticks(axis, list(count_of_mentions_per_person.keys()), \"y\")\n",
    "\n",
    "#plt.xticks(rotation=90)\n",
    "\n",
    "#axis.imshow(matrix_of_mentions, cmap=plt.cm.binary)\n",
    "#plt.show()"
   ]
  },
  {
   "cell_type": "markdown",
   "metadata": {
    "id": "6d0XtLxtBU1e"
   },
   "source": [
    "## Average toxicity by person"
   ]
  },
  {
   "cell_type": "code",
   "execution_count": null,
   "metadata": {},
   "outputs": [],
   "source": [
    "toxic_messages = after_process.groupby(\"User\").mean()\n",
    "toxic_messages[\"Toxicity\"].plot(kind=\"bar\")"
   ]
  },
  {
   "cell_type": "markdown",
   "metadata": {},
   "source": [
    "### Top 10 most toxic messages"
   ]
  },
  {
   "cell_type": "code",
   "execution_count": null,
   "metadata": {},
   "outputs": [],
   "source": [
    "after_process.nlargest(10, \"Toxicity\")[[\"Message_Clean\", \"Toxicity\"]].reset_index()"
   ]
  },
  {
   "cell_type": "code",
   "execution_count": null,
   "metadata": {},
   "outputs": [],
   "source": [
    "from nltk.corpus import stopwords\n",
    "import nltk\n",
    "spanish_stopwords = stopwords.words(\"spanish\")\n",
    "spanish_stopwords.extend([\"q\", \"dsp\", \"si\", \"<\", \">\", \"multimedia\", \"omitido\", \"omitida\", \"\\u200eaudio\", \"\\u200eimagen\", \"\\u200esticker\", \"\\u200evideo\", \"\\u200egif\", \"\", \"Hola\", \"t\", \"d\", \"\"])"
   ]
  },
  {
   "cell_type": "code",
   "execution_count": null,
   "metadata": {},
   "outputs": [],
   "source": [
    "nltk.download(\"punkt\")"
   ]
  },
  {
   "cell_type": "code",
   "execution_count": null,
   "metadata": {},
   "outputs": [],
   "source": [
    "import spacy\n",
    "import spacy_spanish_lemmatizer\n",
    "nlp = spacy.load(\"es_core_news_sm\")"
   ]
  },
  {
   "cell_type": "code",
   "execution_count": null,
   "metadata": {},
   "outputs": [],
   "source": [
    "import string"
   ]
  },
  {
   "cell_type": "code",
   "execution_count": null,
   "metadata": {},
   "outputs": [],
   "source": [
    "def lemmatize(message):\n",
    "    return [token.lemma_ for token in nlp(message)]\n",
    "\n",
    "def remove_word(word):\n",
    "    return word in spanish_stopwords or is_laugh(word) or len(word) <= 3\n",
    "\n",
    "def process_message(message):\n",
    "    return [ token for token in nltk.word_tokenize(message.translate(str.maketrans('', '', string.punctuation))) if not remove_word(token.lower()) ]"
   ]
  },
  {
   "cell_type": "code",
   "execution_count": null,
   "metadata": {},
   "outputs": [],
   "source": [
    "process_message(\"Hola, como estas vos?\")"
   ]
  },
  {
   "cell_type": "code",
   "execution_count": null,
   "metadata": {},
   "outputs": [],
   "source": [
    "messages_without_stopwords = []\n",
    "for index, message in after_process.iterrows():\n",
    "    new_message = message.copy()\n",
    "    new_message[\"Message_Only_Text\"] = \" \".join(process_message(message[\"Message_Only_Text\"]))\n",
    "    messages_without_stopwords.append(new_message)"
   ]
  },
  {
   "cell_type": "markdown",
   "metadata": {},
   "source": [
    "## Most frequently used words per person"
   ]
  },
  {
   "cell_type": "code",
   "execution_count": null,
   "metadata": {},
   "outputs": [],
   "source": [
    "messages_per_person_without_stopwords = dict.fromkeys(keys, [])\n",
    "for person, messages in messages_by_person:\n",
    "    for message in messages.iterrows():\n",
    "        new_message = process_message(message[1][\"Message_Only_Text\"])\n",
    "        messages_per_person_without_stopwords[person].extend(new_message)"
   ]
  },
  {
   "cell_type": "code",
   "execution_count": null,
   "metadata": {},
   "outputs": [],
   "source": [
    "most_used_words = dict.fromkeys(akas_for_each_person.keys(), 0)\n",
    "for person in messages_per_person_without_stopwords:\n",
    "    print(person)\n",
    "    most_used_words[person] = Counter(messages_per_person_without_stopwords[person])"
   ]
  },
  {
   "cell_type": "code",
   "execution_count": null,
   "metadata": {},
   "outputs": [],
   "source": [
    "Counter(messages_per_person_without_stopwords[\"Person2\"]).most_common(10)"
   ]
  },
  {
   "cell_type": "code",
   "execution_count": null,
   "metadata": {},
   "outputs": [],
   "source": []
  }
 ],
 "metadata": {
  "colab": {
   "collapsed_sections": [],
   "name": "WhatsappAnalytics.ipynb",
   "provenance": []
  },
  "kernelspec": {
   "display_name": "Python (myenv)",
   "language": "python",
   "name": "myenv"
  },
  "language_info": {
   "codemirror_mode": {
    "name": "ipython",
    "version": 3
   },
   "file_extension": ".py",
   "mimetype": "text/x-python",
   "name": "python",
   "nbconvert_exporter": "python",
   "pygments_lexer": "ipython3",
   "version": "3.10.12"
  }
 },
 "nbformat": 4,
 "nbformat_minor": 1
}
