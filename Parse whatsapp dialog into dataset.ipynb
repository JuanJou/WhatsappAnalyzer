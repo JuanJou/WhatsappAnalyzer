{
 "cells": [
  {
   "cell_type": "code",
   "execution_count": 14,
   "id": "3318ba3e",
   "metadata": {},
   "outputs": [],
   "source": [
    "import re\n",
    "from faker import Faker\n",
    "import pandas as pd\n",
    "from tqdm.notebook import tqdm_notebook\n",
    "from datetime import datetime"
   ]
  },
  {
   "cell_type": "code",
   "execution_count": 4,
   "id": "1f3aed94",
   "metadata": {},
   "outputs": [],
   "source": [
    "splitted_chat = []\n",
    "with open(\"./chats/chats.txt\", \"r\") as chat:\n",
    "    all_chat = chat.read().replace(\"\\n\", \" \")\n",
    "    splitted_chat = re.findall(\"\\d{1,2}\\/\\d{1,2}\\/\\d{4}, \\d{1,2}:\\d{2} - \\+[()\\d\\w\\s-]+: [\\s\\S]*?(?=\\d{1,2}\\/\\d{1,2}\\/\\d{4}, \\d{1,2}:\\d{2} - \\+|$)\", all_chat)"
   ]
  },
  {
   "cell_type": "code",
   "execution_count": 25,
   "id": "91d6b667",
   "metadata": {},
   "outputs": [],
   "source": [
    "faker = Faker()\n",
    "dict_of_names = {}"
   ]
  },
  {
   "cell_type": "code",
   "execution_count": 26,
   "id": "88706e61",
   "metadata": {},
   "outputs": [],
   "source": [
    "def process_line(line):\n",
    "    #10/3/2024, 12:44 - +54 9 11 3763-1285: Muchas Gracias !!! Ya compre entradas.\n",
    "    regex_result = re.search(\"^(\\d{1,2}\\/\\d{1,2}\\/\\d{4}), (\\d\\d:\\d\\d) - (\\+(\\d*) (?:9 (\\d*)|([()\\d\\w\\s-]*))([()\\d\\w\\s-]*)): ([\\s\\S]*)$\", line)\n",
    "    date = regex_result.group(1)\n",
    "    time = regex_result.group(2)\n",
    "    phone_number = regex_result.group(3)\n",
    "    message = regex_result.group(8)\n",
    "    date = datetime.strptime(f\"{date} {time}\", \"%d/%m/%Y %H:%M\")\n",
    "    return pd.DataFrame([{\n",
    "            \"phone\": phone_number,\n",
    "            \"fake_name\": dict_of_names.setdefault(phone_number, faker.name()),\n",
    "            \"text\": message.lower(),\n",
    "            \"date\": date,\n",
    "           }])"
   ]
  },
  {
   "cell_type": "code",
   "execution_count": 27,
   "id": "797f64ea",
   "metadata": {},
   "outputs": [
    {
     "data": {
      "application/vnd.jupyter.widget-view+json": {
       "model_id": "1daae2737e3e43bebcd3403396c92d21",
       "version_major": 2,
       "version_minor": 0
      },
      "text/plain": [
       "  0%|          | 0/7284 [00:00<?, ?it/s]"
      ]
     },
     "metadata": {},
     "output_type": "display_data"
    }
   ],
   "source": [
    "after_process = pd.DataFrame()\n",
    "with tqdm_notebook(total=len(splitted_chat)) as progress_bar:\n",
    "    for line in splitted_chat:\n",
    "        try:\n",
    "            processed_line = process_line(line)\n",
    "            after_process = pd.concat([after_process, processed_line])\n",
    "        except Exception as err:\n",
    "            print(f\"EXCEPTION {err} on line {line}\")\n",
    "            pass\n",
    "        finally:\n",
    "            progress_bar.update(1)\n",
    "            \n",
    "after_process.to_csv(\"./chats/dataset.csv\")"
   ]
  },
  {
   "cell_type": "code",
   "execution_count": 28,
   "id": "8184bd70",
   "metadata": {},
   "outputs": [
    {
     "data": {
      "text/html": [
       "<div>\n",
       "<style scoped>\n",
       "    .dataframe tbody tr th:only-of-type {\n",
       "        vertical-align: middle;\n",
       "    }\n",
       "\n",
       "    .dataframe tbody tr th {\n",
       "        vertical-align: top;\n",
       "    }\n",
       "\n",
       "    .dataframe thead th {\n",
       "        text-align: right;\n",
       "    }\n",
       "</style>\n",
       "<table border=\"1\" class=\"dataframe\">\n",
       "  <thead>\n",
       "    <tr style=\"text-align: right;\">\n",
       "      <th></th>\n",
       "      <th>phone</th>\n",
       "      <th>fake_name</th>\n",
       "      <th>text</th>\n",
       "      <th>date</th>\n",
       "    </tr>\n",
       "  </thead>\n",
       "  <tbody>\n",
       "    <tr>\n",
       "      <th>0</th>\n",
       "      <td>+54 9 11 3763-1285</td>\n",
       "      <td>Cristian Thomas</td>\n",
       "      <td>muchas gracias !!! ya compre entradas.</td>\n",
       "      <td>2024-03-10 12:44:00</td>\n",
       "    </tr>\n",
       "    <tr>\n",
       "      <th>0</th>\n",
       "      <td>+54 9 11 6544-3716</td>\n",
       "      <td>Ann Perry</td>\n",
       "      <td>https://eternacadencia.com.ar/nota/borges-pres...</td>\n",
       "      <td>2024-03-10 14:07:00</td>\n",
       "    </tr>\n",
       "    <tr>\n",
       "      <th>0</th>\n",
       "      <td>+54 9 11 6544-3716</td>\n",
       "      <td>Ann Perry</td>\n",
       "      <td>borges , el lector conmovido</td>\n",
       "      <td>2024-03-10 14:09:00</td>\n",
       "    </tr>\n",
       "    <tr>\n",
       "      <th>0</th>\n",
       "      <td>+593 98 758 1373</td>\n",
       "      <td>Rodney Gonzalez</td>\n",
       "      <td>https://almomento.net/cecilia-ingenieros-borge...</td>\n",
       "      <td>2024-03-10 17:03:00</td>\n",
       "    </tr>\n",
       "    <tr>\n",
       "      <th>0</th>\n",
       "      <td>+593 98 758 1373</td>\n",
       "      <td>Rodney Gonzalez</td>\n",
       "      <td>muy interesante información sobre \"emma zunz\" ...</td>\n",
       "      <td>2024-03-10 17:04:00</td>\n",
       "    </tr>\n",
       "    <tr>\n",
       "      <th>...</th>\n",
       "      <td>...</td>\n",
       "      <td>...</td>\n",
       "      <td>...</td>\n",
       "      <td>...</td>\n",
       "    </tr>\n",
       "    <tr>\n",
       "      <th>0</th>\n",
       "      <td>+54 9 2314 41-1016</td>\n",
       "      <td>Amanda Delgado</td>\n",
       "      <td>me encantò!!! gracias sss 💚</td>\n",
       "      <td>2024-05-10 16:28:00</td>\n",
       "    </tr>\n",
       "    <tr>\n",
       "      <th>0</th>\n",
       "      <td>+54 9 2314 41-1016</td>\n",
       "      <td>Amanda Delgado</td>\n",
       "      <td>es maravilloso este grupo! y qué placer la lec...</td>\n",
       "      <td>2024-05-10 16:30:00</td>\n",
       "    </tr>\n",
       "    <tr>\n",
       "      <th>0</th>\n",
       "      <td>+54 9 11 4084-4598</td>\n",
       "      <td>Austin Jackson</td>\n",
       "      <td>https://youtu.be/dbxlrkmfm8q?si=hvwilfqkp8fb_4yx</td>\n",
       "      <td>2024-05-10 16:57:00</td>\n",
       "    </tr>\n",
       "    <tr>\n",
       "      <th>0</th>\n",
       "      <td>+54 9 11 4084-4598</td>\n",
       "      <td>Austin Jackson</td>\n",
       "      <td>no sé si alguien lo compartió ya, pero es un v...</td>\n",
       "      <td>2024-05-10 16:58:00</td>\n",
       "    </tr>\n",
       "    <tr>\n",
       "      <th>0</th>\n",
       "      <td>+54 9 223 532-7051</td>\n",
       "      <td>Michael White</td>\n",
       "      <td>gracias! los cuentos son tremendos 🫶</td>\n",
       "      <td>2024-05-10 17:18:00</td>\n",
       "    </tr>\n",
       "  </tbody>\n",
       "</table>\n",
       "<p>7284 rows × 4 columns</p>\n",
       "</div>"
      ],
      "text/plain": [
       "                 phone        fake_name  \\\n",
       "0   +54 9 11 3763-1285  Cristian Thomas   \n",
       "0   +54 9 11 6544-3716        Ann Perry   \n",
       "0   +54 9 11 6544-3716        Ann Perry   \n",
       "0     +593 98 758 1373  Rodney Gonzalez   \n",
       "0     +593 98 758 1373  Rodney Gonzalez   \n",
       "..                 ...              ...   \n",
       "0   +54 9 2314 41-1016   Amanda Delgado   \n",
       "0   +54 9 2314 41-1016   Amanda Delgado   \n",
       "0   +54 9 11 4084-4598   Austin Jackson   \n",
       "0   +54 9 11 4084-4598   Austin Jackson   \n",
       "0   +54 9 223 532-7051    Michael White   \n",
       "\n",
       "                                                 text                date  \n",
       "0             muchas gracias !!! ya compre entradas.  2024-03-10 12:44:00  \n",
       "0   https://eternacadencia.com.ar/nota/borges-pres... 2024-03-10 14:07:00  \n",
       "0                       borges , el lector conmovido  2024-03-10 14:09:00  \n",
       "0   https://almomento.net/cecilia-ingenieros-borge... 2024-03-10 17:03:00  \n",
       "0   muy interesante información sobre \"emma zunz\" ... 2024-03-10 17:04:00  \n",
       "..                                                ...                 ...  \n",
       "0                        me encantò!!! gracias sss 💚  2024-05-10 16:28:00  \n",
       "0   es maravilloso este grupo! y qué placer la lec... 2024-05-10 16:30:00  \n",
       "0   https://youtu.be/dbxlrkmfm8q?si=hvwilfqkp8fb_4yx  2024-05-10 16:57:00  \n",
       "0   no sé si alguien lo compartió ya, pero es un v... 2024-05-10 16:58:00  \n",
       "0               gracias! los cuentos son tremendos 🫶  2024-05-10 17:18:00  \n",
       "\n",
       "[7284 rows x 4 columns]"
      ]
     },
     "execution_count": 28,
     "metadata": {},
     "output_type": "execute_result"
    }
   ],
   "source": [
    "after_process"
   ]
  },
  {
   "cell_type": "code",
   "execution_count": null,
   "id": "0e9bb95b",
   "metadata": {},
   "outputs": [],
   "source": []
  }
 ],
 "metadata": {
  "kernelspec": {
   "display_name": "Python (myenv)",
   "language": "python",
   "name": "myenv"
  },
  "language_info": {
   "codemirror_mode": {
    "name": "ipython",
    "version": 3
   },
   "file_extension": ".py",
   "mimetype": "text/x-python",
   "name": "python",
   "nbconvert_exporter": "python",
   "pygments_lexer": "ipython3",
   "version": "3.10.12"
  }
 },
 "nbformat": 4,
 "nbformat_minor": 5
}
