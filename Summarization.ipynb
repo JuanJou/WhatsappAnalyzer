{
 "cells": [
  {
   "cell_type": "code",
   "execution_count": 8,
   "id": "7f357a00",
   "metadata": {},
   "outputs": [],
   "source": [
    "from pathlib import Path\n",
    "import pandas as pd\n",
    "import torch\n",
    "from transformers import BertTokenizerFast, EncoderDecoderModel"
   ]
  },
  {
   "cell_type": "code",
   "execution_count": 1,
   "id": "5c9a9334",
   "metadata": {},
   "outputs": [
    {
     "name": "stderr",
     "output_type": "stream",
     "text": [
      "/home/juan/projects/WhatsappAnalyzer/mundialdelectura/lib/python3.10/site-packages/huggingface_hub/file_download.py:1132: FutureWarning: `resume_download` is deprecated and will be removed in version 1.0.0. Downloads always resume when possible. If you want to force a new download, use `force_download=True`.\n",
      "  warnings.warn(\n"
     ]
    },
    {
     "data": {
      "application/vnd.jupyter.widget-view+json": {
       "model_id": "bcf6fbe097aa4fe892a91a1b5b536d78",
       "version_major": 2,
       "version_minor": 0
      },
      "text/plain": [
       "tokenizer_config.json:   0%|          | 0.00/520 [00:00<?, ?B/s]"
      ]
     },
     "metadata": {},
     "output_type": "display_data"
    },
    {
     "data": {
      "application/vnd.jupyter.widget-view+json": {
       "model_id": "248b0d77a944472eabb1f1e67c7ac2d9",
       "version_major": 2,
       "version_minor": 0
      },
      "text/plain": [
       "vocab.txt:   0%|          | 0.00/242k [00:00<?, ?B/s]"
      ]
     },
     "metadata": {},
     "output_type": "display_data"
    },
    {
     "data": {
      "application/vnd.jupyter.widget-view+json": {
       "model_id": "2d1ad18574f045c8aa025d0852e69b55",
       "version_major": 2,
       "version_minor": 0
      },
      "text/plain": [
       "special_tokens_map.json:   0%|          | 0.00/112 [00:00<?, ?B/s]"
      ]
     },
     "metadata": {},
     "output_type": "display_data"
    },
    {
     "data": {
      "application/vnd.jupyter.widget-view+json": {
       "model_id": "e1fdc9378e7c41c98e25daf49caf2cb2",
       "version_major": 2,
       "version_minor": 0
      },
      "text/plain": [
       "config.json:   0%|          | 0.00/4.51k [00:00<?, ?B/s]"
      ]
     },
     "metadata": {},
     "output_type": "display_data"
    },
    {
     "data": {
      "application/vnd.jupyter.widget-view+json": {
       "model_id": "f9e311196a814e9088ffbaa208335f32",
       "version_major": 2,
       "version_minor": 0
      },
      "text/plain": [
       "model.safetensors:   0%|          | 0.00/555M [00:00<?, ?B/s]"
      ]
     },
     "metadata": {},
     "output_type": "display_data"
    },
    {
     "name": "stderr",
     "output_type": "stream",
     "text": [
      "The following encoder weights were not tied to the decoder ['bert/pooler']\n",
      "The following encoder weights were not tied to the decoder ['bert/pooler']\n",
      "The following encoder weights were not tied to the decoder ['bert/pooler']\n",
      "The following encoder weights were not tied to the decoder ['bert/pooler']\n"
     ]
    },
    {
     "data": {
      "text/plain": [
       "'Your text of your text here has been your text Minister The text net of the netwided webrd your s text'"
      ]
     },
     "execution_count": 1,
     "metadata": {},
     "output_type": "execute_result"
    }
   ],
   "source": [
    "device = 'cuda' if torch.cuda.is_available() else 'cpu'\n",
    "ckpt = 'mrm8488/bert2bert_shared-spanish-finetuned-summarization'\n",
    "tokenizer = BertTokenizerFast.from_pretrained(ckpt)\n",
    "model = EncoderDecoderModel.from_pretrained(ckpt).to(device)\n",
    "\n",
    "def generate_summary(text):\n",
    "\n",
    "   inputs = tokenizer([text], padding=\"max_length\", truncation=True, max_length=512, return_tensors=\"pt\")\n",
    "   input_ids = inputs.input_ids.to(device)\n",
    "   attention_mask = inputs.attention_mask.to(device)\n",
    "   output = model.generate(input_ids, attention_mask=attention_mask)\n",
    "   return tokenizer.decode(output[0], skip_special_tokens=True)\n",
    "   \n",
    "text = \"Your text here...\"\n",
    "generate_summary(text)"
   ]
  },
  {
   "cell_type": "code",
   "execution_count": 9,
   "id": "baf503fa",
   "metadata": {},
   "outputs": [],
   "source": [
    "path = Path(\"./Chat_as_DF.pkl\")\n",
    "if path.is_file():\n",
    "    conversation = pd.read_pickle(path)"
   ]
  },
  {
   "cell_type": "code",
   "execution_count": 12,
   "id": "b3b062a0",
   "metadata": {},
   "outputs": [],
   "source": [
    "conversations_grouped_by_day = conversation.groupby(conversation.Date.dt.day)"
   ]
  },
  {
   "cell_type": "markdown",
   "id": "deabffec",
   "metadata": {},
   "source": [
    "## Summary of conversations in a day"
   ]
  },
  {
   "cell_type": "code",
   "execution_count": 50,
   "id": "182e4076",
   "metadata": {},
   "outputs": [],
   "source": [
    "conversations_of_day = conversations_grouped_by_day.get_group(5)"
   ]
  },
  {
   "cell_type": "code",
   "execution_count": 51,
   "id": "0a805f95",
   "metadata": {},
   "outputs": [],
   "source": [
    "messages_of_day = \"\"\n",
    "for index, row in conversations_of_day.iterrows():\n",
    "    messages_of_day += row[\"Message_Clean\"] + '\\n'"
   ]
  },
  {
   "cell_type": "code",
   "execution_count": 52,
   "id": "a7087851",
   "metadata": {},
   "outputs": [
    {
     "data": {
      "text/plain": [
       "'El libro Gracias por la info Car, de Victoria Ocampo, es un viaje a la historia de la literatura española'"
      ]
     },
     "execution_count": 52,
     "metadata": {},
     "output_type": "execute_result"
    }
   ],
   "source": [
    "generate_summary(messages_of_day)"
   ]
  },
  {
   "cell_type": "code",
   "execution_count": 53,
   "id": "4656b3b5",
   "metadata": {},
   "outputs": [
    {
     "data": {
      "text/plain": [
       "'Gracias Emilia. Ya estoy en el taller de los jueves \\nSe eliminó este mensaje. \\nAlguien me podría pasar el link por favor 🙏🏼 5/4/2024, 08:32 - \\u200e+54 9 11 6604-3731 se unió usando el enlace de invitación de este grupo \\nhttps://us06web.zoom.us/j/89907794728?pwd=nE8uVPFdgbPTESWoIqR2XTbC0SaGaW.1 \\n899 0779 4728 799300 \\nEntré tarde al zoom, ¿ya leyó Alejandro? \\nPerdón,  no cortemos la lectura, al final podemos preguntar \\nNo \\nNo empezó a leer \\nExactamente \\nSi, pero había comenzado la introducción \\nes muy loco q ubica a personajes de ficción también \\nUn placer escuchar estos Poemas del Dante,por Alejandro y muy buenas acotaciones del Grupo Gracias. \\nHermoso encuentro.Con una sonoridad maravillosa \\nImpactante texto del  1300...fascinante \\nGracias a Alejandro y a todos los que con sus comentarios enriquecieron la clase <Se editó este mensaje.> \\nRespecto del canto de hoy hay un libro de Victoria Ocampa que se llama De Francesca a Beatrice, por si les interesa.♥ \\nGracias! \\nVictoria Ocampo también era una gran fanática de Dante y la comedia. \\nEstá agotadisimo el libro \\nGracias por la info Car (supongo que sos Carla), me interesa mucho! 5/4/2024, 10:32 - \\u200e+54 9 11 5752-8292 se unió usando el enlace de invitación de este grupo \\nSi si. Soy Carlam \\nDebe estar en PDF. Si lo consigo se los pasom \\nRecién lo busqué en ML y hay x $ 120 mil a $ 2 millones 🤦🏻\\u200d♀️ \\nSiii. Porque hace muchísimo que está agotado. El que lo tiene es como tener una reliquia. Pero tiene que estar en internet. \\nel que sale dos millones viene con firma de ella 😱 \\nDedicatoria y foto🙄🤫 \\nQuién será que necesita desprenderse de esa joya \\nEn qué moneda? De qué país? \\nArgentina \\nDe argentina  Unos 2000 dol \\nGenial! Yo también lo puedo buscar en PDF \\nSocorro! \\nEn España lo vi en Amazon y en la Casa del libro mas o menos a 12 euros que en Argentina ya no se cuanto es pero hace un mes eran el equivalente a 12.000pesos 5/4/2024, 12:53 - \\u200e+57 314 2774820 se unió usando el enlace de invitación de este grupo \\n<Multimedia omitido> \\n<Multimedia omitido> \\n¿Sabés de cuál de sus libros, Mariana? 5/4/2024, 13:26 - \\u200e+54 9 11 6014-8018 se unió usando el enlace de invitación de este grupo 5/4/2024, 13:26 - \\u200e+54 9 11 5717-7081 se unió usando el enlace de invitación de este grupo 5/4/2024, 13:26 - \\u200e+54 9 11 5705-5503 se unió usando el enlace de invitación de este grupo 5/4/2024, 13:26 - \\u200e+972 58-675-0956 se unió usando el enlace de invitación de este grupo 5/4/2024, 13:26 - \\u200e+54 9 11 6626-0637 se unió usando el enlace de invitación de este grupo 5/4/2024, 13:26 - \\u200e+54 9 297 401-6647 se unió usando el enlace de invitación de este grupo \\nYo lo tengo en un libro que pertenece a la colección de \"Poemas Esenciales\", que sale todos los meses y lo compro en un puesto de revistas. \\nDe la editorial Salvat 5/4/2024, 13:35 - \\u200e+54 9 11 5704-0094 se unió usando el enlace de invitación de este grupo \\nPorque tengo varios de sus libros y no lo recuerdo. Ahí googleo a ver si surge de dónde. Alguna info. marcaba \"Amnesia\", título que no tengo y no sé si es el correcto. Gracias. \\nEsta canción de Babasonicos también hace alusión a la Divina comedia.♥ https://www.youtube.com/watch?v=s8h6vvudgAM \\nEn el índice figura como \"La última Luna (1944)\" \\nCurioso porque versa de un amor platónico con su hijastra, un amor prohibido. Igual que el de Dante y Beatriz. \\nNo sabía que hablara de un amor prohibido. \\nHay bastante info. en la red al respecto, de la que recién me entero por buscar la sinópsis. Pero justamente está esa relación. Tal vez por eso escribió el poema que nos compartiste, se sintió identificado. \\nHola pregunta en qué link encuentro la grabación de hoy, me tuve que ir antes que terminara😢 \\nhttps://docs.google.com/document/d/1RD2IEZpyXNIKQpzbo7f_6suKKkrWQE4ilPwpuvKQL3k/edit \\nInteresante, me queda pendiente la búsqueda. Muchas gracias, Mara. \\nA vos. \\nHola nuevamente a todos/as. Hoy mas temprano puse por acá el precio del libro de Victoria Ocampo en Amazon y Casa del Libro. Resulta que está agotado y lo que hay está en Francés.  Las versiones en Francés estan entre 12 /17 y 23 euros. Esto es para quienes estén por este continente. Pregunté en otras librerias y también me dijeron que en Español no lo consiguen. \\nPueden siempre encontrar todos los links en la descripción del grupo: \\n<Multimedia omitido> \\nHoy no pude participar del encuentro, lo estoy escuchando y pienso que estaria muy bueno que hasta que no termine de hablar Alejandro,  pusiese a todos/as en silencio.  Porque sinceramente es un tanto agotador. \\nCoincido, arrancamos muy tarde hoy x las preguntas iniciales \\nEs tambien una cuestion de respeto al/a la Otro/a.  Yo hoy no pude estar presente. Lo estoy escuchando concentrada y de repente aparecen con preguntas y aseveraciones. O que se las guarden para el final o que aprendan a respetar a los /as demás ( y en esos/as demas incluyo a Alejandro). Pasa que en general para que no haya quilombo la gente se calla pero a veces HARTAN. \\nay bueno... qué duras palabras, chicas. \\nNo son duras. En nuestro pais para decir lo que molesta se ponen muy politicamente correctos/as. Somos 400 personas y hay algo que se llama RESPETO AL OTRO \\n<Multimedia omitido> \\nSe eliminó este mensaje. \\nPienso que es poco el tiempo y mucha gente escuchando. Los micrófonos deberían estar apagados y al final, si hay tiempo,  que algunos hagan peguntas breves y concisas, directo a la duda. No explayarse, se hace insoportable.  El contenido es complejo y a quien quiero escuchar es al disertante. <Se editó este mensaje.> \\nNunca escuché que alguien hablé sin que el disertante le de la palabra! \\nAsí de escucha en lo grabado ? \\nCoincido en todo lo que escribís. @5491151217475 muestra pasión por lo que hace y una paciencia infinita. Igual que @5491158957038   Hoy (por otro compromiso) tuve que cortar antes de que terminara. Obvio por las interrupciones de algunos y la falta de síntesis de otros, se va extendiendo…  Lo mismo que preguntar por acá decenas de veces lo mismo, cuando nos mandan todo el material y la información clara como el agua.!  En fin… \\nHoy interrumpieron a Alejandro mientras hablaba o leía varias veces \\nCierto. Y los comentarios del libro de @5491151217475 al fin de cada canto son maravillosos.!  No tengo esa edición, para mí es un lujo poder escucharlo… \\nBuenas, aun no logre ver la grabación, y no pude estar por la mañana. Pero confío plenamente en la capacidad y criterios de quienes están al frente de este mundial de lectura. Por ese motivo creo que si @5491151217475 o alguien del equipo lo creyera necesario, pasarían a trasmitir si fuera necesario silenciar o solicitar no interrumpir. Confiemos donde estamos \\nExactamente ,❣️ \\nNaty vos sos muy confiada 😜 5/4/2024, 16:38 - \\u200e+54 9 351 304-1362 se unió usando el enlace de invitación de este grupo \\nHola, amigxs! Necesito el libro de cuentos BOGOTÁ 39. Alguien podrá agregarlo acá en pdf o cualquier formato? Geacias! \\nholaa!! no encontré el libro de Ocampo, pero encontré otras cositas al respecto. Gracias por la referencia a ese libro que aparentemente fue un poco controvertido para algunos. Encontré una nota que resume muy poquito al respecto. \\nhttps://www.lanacion.com.ar/opinion/de-francesca-a-beatrice-por-victoria-nid03042021/ \\ny encontré como una carta que Virgina escribe en Sur como contestación a ese epilogo de dicho filósofo. Es muy linda, compleja, y apasionada tambien. \\nhttps://www.cervantesvirtual.com/obra-visor/sur--0/html/025e04da-82b2-11df-acc7-002185ce6064_5.html#I_4_ \\nQue es  ? \\nVictoria  perdón jajaja,  estuve leyendo tbn algo de las cartas con Virginia  Woolf donde Victoria Ocampo menciona que ella le dio valentía y seguridad para publicar ese libro sobre la Comedia. \\nVictoria Ocampo y Dante Alighieri un solo corazón.♥ jajajaajja los amo \\nYo soy Team Silvina 😈 \\nDe Francesca a Beatrice, por Victoria   https://www.lanacion.com.ar/opinion/de-francesca-a-beatrice-por-victoria-nid03042021/ \\nHola a todos compañeros lectores del Infierno. Alguien tiene el prólogo de Speider q recomendó Alejandro? Gracias \\nhttps://youtu.be/rBx3AdILF1A?si=r3bS_QjUD699HLu- \\nTambién. Y he vuelto fans a muchos de mis alumnos de tanto entusiasmo que le meto a las clases.❤️ \\nQué maravilla esta lectura, me encanta la manera tan poética de entrar en el mundo de Dante.  Gracias @5491151217475 es un placer escucharte y ojalá sigas traduciendo las otras cánticas \\nImaginate las conversaciones de \"adolfito\"  y Silvina... \\nClaudia Fernández Speier. Perdó \\nLo re busqué  pero no lo encontré aún. \\nYo tengo el libro de Claudia Fernández … pero no creo que con fotos se pueda apreciar \\nSoy muy fan de los diarios de Bioy y en ellos reproduce charlas con Silvina. Los recomiendo.  Uno es Descanso de caminantes y el otro no recuerdo el nombre en este momento.\\U0001fae0  Después tiene uno que se llama Borges y es el diario de su amistad con Borges y es un mil. \\nhttps://www.atencionallector.com/revista/ciclo-de-conversaciones-de-diccionario-de-libros-una-entrevista-a-claudia-fernandez-speier-sobre-la-divina-comedia una entrevista a la traductora sugerida, está bueno! polemiza? respecto a Borges, interesante. \\nhttps://traficantes.net/sites/default/files/pdfs/9788417088835.pdf \\nHola Ester. Encontré esto. Está completo? Tengo ms dudas \\n<Multimedia omitido> \\nQue bueno Car! \\nBueno sin querer ser ofensiva Kari, creo que no somos quienes para decidir qué puede o no puede hacer cada participante en los talleres. En todo caso está el moderador para dictar las reglas \\nGracias Gabi! \\nQue bueno tanto este dato Car \\n<Multimedia omitido> \\nYo no tengo por que escuchar a una persona recibiendo visitas, a otra en el subte o tren o lo que sea.  Entro a escuchar a quien da el taller y si mis compañeros/as quieren hablar interrumpiendo me parece una falta de respeto en donde sea: en Argentina o en China. Por otra parte y con todo respeto hacia vos, yo ya soy adulta para decir lo que pienso. Yo no dije que se callen, no dirijo al grupo sino que opino.  Ya que somos lectores/as hay que comprender la diferencia entre opinar y exigir. \\nUh mirá vos.la volví a escuchar después de casi 30 años. No llega al cielo este patinador igual. Se queda a medio camino \\n<Multimedia omitido> \\nDe 10. \\n<Multimedia omitido> \\nGracias!! \\nNo pude hacer la truvia, se tildó 😡 \\nTrivia, no truvia \\nYo no puedo hacerla porque no me reconoce la contraseña \\nAlicia, Nora, la trivia intentaron hacerla ayer o están tratando de hacerla hoy? Porque la trivia esta \"activa\" solo 24 horas, el día de las charlas de lunes, miércoles y viernes de mañana: desde las 6 am creo del día de la charla hasta 6 am del día siguiente. Yo la de ayer me olvidé de hacerla! \\nYo para no olvidarme, opté por terminar de leer, ver el video del zoom y realizarla. \\nYo también \\nSe eliminó este mensaje. \\nTal cual, eso es lo que hay que hacer. Porque me esta pasando que ne acuerdo de la trivia recién al día siguiente,  cuando ya esta vencida \\nMuchas gracias 🌟 \\nNunca hice las trivias 🤦🏻\\u200d♀️ \\nLeo antes, estoy en la clase, leo otra vez, no siempre hay tiempo, pero aunque pierda la trivia, gano mucho yo... Gracias por esta oportunidad de compartir esta lectura colectiva <Se editó este mensaje.> \\nComparto totalmente contigo Sandra. Estoy re agradecida por esta iniciativa genial del Mundial de Escritura,  por la generosidad de los disertantes (y el equipo que está detrás), por los intercambios en este chat donde hay tanta gente genial y por todo lo que estoy aprendiendo \\nDe Cortázar leí \"La noche boca arriba\" que trata de la guerra florida y los sacrificios humanos. Es impresionante cómo nos sumerge en ese ambiente y transmite justo lo que quiere transmitir. Me sentía ahí, junto al personaje, a punto de ser sacrificado. No podía parar de leer, lo terminé antes de dormir y me quedé pensando y delirando que si me dormía capaz me despertaba en una mesa de piedra y atado por los aztecas. \\nEs libro o cuento? No lo he leído \\nEs un cuento. \\nGracias, no lo conocía 😊 \\nSi les gustó \"La noche boca arriba\"  sugiero leer \"Huitzilopoxtli\" de Ruben Dario \\nSí, es cuento, pero es largo. \\nDe Cortázar  \" Toco tu boca\"  \"Casa tomada\" \"La salud de los enfermos\" \"La maga\" Cuentos de Don julio, muy recomendable. \\nSe eliminó este mensaje. \\nBuen día, aquí Santiago Llach. Les recuerdo que mañana a las 8:30 de la mañana de Argentina sigue la lectura del libro de Clarice Lispector bajo la guía de Marina Mariasch. Quienes quieran profundizar en el análisis de la obra, pueden inscribirse en el taller que dará Marina a partir del próximo jueves a las 19, hora argentina. \\n<Multimedia omitido> \\nLink para inscribirse: https://docs.google.com/forms/d/e/1FAIpQLSfbcLoSxBwd4_OKdTJLEM6HqiWJJNspv_x3BITJBBlyEiTRJw/viewform \\nCortázar acuñó este término poco feliz cuando se publicó Rayuela, justamente porque proponía la famosa doble posibilidad de lectura, que en ese tiempo fue toda una novedad y que fue muy cuestionada. Y para mí una cosa muy curiosa es que si hay una \"hembra pasiva\" en la literatura argentina,  esa es la Maga, un personaje que nunca me cerró, aunque en aquella época se convirtió en un verdadero mito. Fuera de la metida de pata, Rayuela es una novela que hoy puede haber envejecida, pero que en aquel momento y para aquella generación fue importantísima, y no hay duda de que los cuatro primeros libros de cuentos de Cortázar son una verdadera joya y que ya entraron en el canon de la literatura argentina por derecho propio.  Otro enorme cuentista que siempre leí con mucho amor es Abelardo Castillo, y me gustan muchísimo también la mayoría de sus novelas. Vale la pena revisitarlo. \\nFue así, la Maga un personaje que provocó fascinación a tal punto que una hermosa publicación  de cultura y actualidad se llamó así :\"La Maga\".  Abelardo  genio del cuento . \" La madre de Ernesto\" cuento inolvidable \\nY Noche para el negro Griffith, El cruce del Aqueronte, Also sprach el señor Núñez y tantos otros!!! \\nSii! \\n\"afanar\" es rioplatense significa robar. Proviene del lunfardo que fue un slang del cual pasaron muchos términos al registro coloquial. \\nSiempre supuse que era un uso irónico del sustantivo  \"afán\": esfuerzo o empeño;  que deriva al verbo \"afanar\" (ponerle esfuerzo o empeño a lo ajeno). Pero es una interpretación mía. Hay ensayos y diccionarios del lunfardo. \\nEste verbo lo usamos en España como sinónimo de robar, sin ser rioplatenses...😉😉😉 \\nBueno, pero afanar no es solo robar \\nEn el contexto de la nota del artículo de Llach ese era el sentido. \\n<Multimedia omitido> \\n<Multimedia omitido> \\nNo sé cómo se usa en España. En nuestro rioplatense se usa como un término del registro slang o lunfardo (vuelvo aclarar en sentido de robar). \\nPor eso en la nota decir que Borges \"afanó\" es irónico y una provocación / invitación para el lector de un diario. \\nTambién lo usamos como intransitivo, afanarse, para decir empeñarse en algo, trabajar para un fin... \\nSí pero no es ese el sentido del uso en la nota sobre la que una participante preguntó.  La nota periodística fue publicada en Argentina. En esa nota afanar es robar y suena raro en un diario porque no es una palabra de ese registro.  Está usada como un recurso para llamar la atención.  La lengua en uso es lo que termina de modelar el sentido. \\nGracias, Silvia \\nTb esta la raíz de epi fania jaaaa \\nIncreíble, cuánto saben!! Maravilloso. Gracias por compartir. \\nCuánto afán docente hay aquí!😂 \\nSolo conocía fiaca, guita, groso y laburo 😍🇦🇷 \\nSe eliminó este mensaje. \\nEsa acepción sí la conocía. También la de apurarse \\nSi lo decís por mí. Me hago cargo. 😁 Disfruto del beneficio de la jubilación luego de 30 años del ejercicio.  Aunque me lo quiera sacar no puedo.  Igual me parece \"piola\" ( por usar un rioplatense ya medio viejito) poder pasarse \"info\". (Más nuevito y no sé si de uso sólo rioplatense). \\nYo estoy inscriptas. Me llegará el email para entrar? Gracias Santiago! \\nSí, gracias Inés. Recuerden fijarse en Spam, Promociones, etc. Cualquier duda podés escribir al mail del Mundial \\nIntenté leer Rayuela y abandoné, en cambio los cuentos me parecieron maravillosos,  especialmente \"Carta a una señorita en París\" \\nHablo de Cortázar, perdón si llego tarde a la discusión \\nBuenas tardes. Alguien recuerda el nombre de la pelicula que mencionó Alejandro sobre u  siquiatra que debe tratar a un condenado. Y este le habla del infierno.  Gracias \\n<Multimedia omitido> \\nhttps://images.app.goo.gl/FPiwfaiL7Az6DS5U9 \\n<Multimedia omitido> \\nHasta  el arranque del capítulo que empiezs\"Lori ya le había contado a Ulises\". Eso entendí \\nGracias! \\nEnvían el zoom del viernes? Porque a mí no me llegó \\nFíjate en correo no deseado \\nLo hice! \\nEstá el link en el documento al que podés acceder desde la descripción del grupo \\nBusco. De nuevo gracias🤩 \\n<Multimedia omitido> \\nGracias 🙏 \\n<Multimedia omitido> \\nDiría que indirecto libre, porque a los pensamientos de él se refiere con \"tal vez\", en cambio con Lori lo afirma \\nOk. Acepto \\nMe encantó leer los comentarios del Grupo ! 5/5/2024, 23:25 - Se añadió a +598 99 176 879 5/5/2024, 23:24 - \\u200e+598 99 176 879 se unió usando el enlace de invitación de este grupo \\n'"
      ]
     },
     "execution_count": 53,
     "metadata": {},
     "output_type": "execute_result"
    }
   ],
   "source": [
    "messages_of_day"
   ]
  },
  {
   "cell_type": "code",
   "execution_count": null,
   "id": "b5b4d0fb",
   "metadata": {},
   "outputs": [],
   "source": []
  }
 ],
 "metadata": {
  "kernelspec": {
   "display_name": "Python (myenv)",
   "language": "python",
   "name": "myenv"
  },
  "language_info": {
   "codemirror_mode": {
    "name": "ipython",
    "version": 3
   },
   "file_extension": ".py",
   "mimetype": "text/x-python",
   "name": "python",
   "nbconvert_exporter": "python",
   "pygments_lexer": "ipython3",
   "version": "3.10.12"
  }
 },
 "nbformat": 4,
 "nbformat_minor": 5
}
